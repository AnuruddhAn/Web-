{
  "nbformat": 4,
  "nbformat_minor": 0,
  "metadata": {
    "colab": {
      "name": "project web scraping.ipynb",
      "provenance": [],
      "collapsed_sections": [],
      "toc_visible": true,
      "authorship_tag": "ABX9TyPQPA6S0MCYagI1b1lAf6qA",
      "include_colab_link": true
    },
    "kernelspec": {
      "display_name": "Python 3",
      "name": "python3"
    },
    "language_info": {
      "name": "python"
    }
  },
  "cells": [
    {
      "cell_type": "markdown",
      "metadata": {
        "id": "view-in-github",
        "colab_type": "text"
      },
      "source": [
        "<a href=\"https://colab.research.google.com/github/AnuruddhAn/Web-Scraping/blob/main/project_web_scraping.ipynb\" target=\"_parent\"><img src=\"https://colab.research.google.com/assets/colab-badge.svg\" alt=\"Open In Colab\"/></a>"
      ]
    },
    {
      "cell_type": "markdown",
      "metadata": {
        "id": "mCslU4L9yWLr"
      },
      "source": [
        "### iMDb website scraping"
      ]
    },
    {
      "cell_type": "code",
      "metadata": {
        "id": "HFC3bI-UrgkV"
      },
      "source": [
        "import requests\n",
        "import pandas as pd\n",
        "from bs4 import BeautifulSoup\n",
        "import numpy as np\n",
        "\n",
        "movie_name=[]\n",
        "year =[]\n",
        "time =[]\n",
        "rating =[]\n",
        "metascore =[]\n",
        "votes =[]\n",
        "gross =[]\n",
        "\n",
        "pages= np.arange(1,1000,100)\n",
        "for page in pages:\n",
        "   imdb_url ='https://www.imdb.com/search/title/?groups=top_1000&sort=user_rating,desc&count=100&start='+str(page)+'&ref_=adv_nxt'\n",
        "   imdb_response = requests.get(imdb_url)\n",
        "   imdb_soup = BeautifulSoup(imdb_response.text,'html.parser')\n",
        "   \n",
        "   movie_data = imdb_soup.findAll('div',attrs ={'class':'lister-item mode-advanced'})\n",
        "   for store in movie_data:\n",
        "       name = store.h3.a.text\n",
        "       movie_name.append(name)\n",
        "\n",
        "       year_of_release = store.h3.find('span',class_='lister-item-year text-muted unbold').text.replace('(','').replace(')','').replace('I ','')\n",
        "       year.append(year_of_release)\n",
        "\n",
        "       runtime = store.p.find('span',class_='runtime').text.replace('min','')\n",
        "       time.append(runtime)\n",
        "\n",
        "       rate = store.find('div',class_='inline-block ratings-imdb-rating').text.replace('\\n','')\n",
        "       rating.append(rate)\n",
        "\n",
        "       meta = store.find('div',class_='inline-block ratings-metascore').text.replace('\\n','').replace('                Metascore            ','') if store.find('div',class_='inline-block ratings-metascore') else '****'\n",
        "       metascore.append(meta)\n",
        "\n",
        "       value= store.find_all('span', attrs ={'name':'nv'})\n",
        "       vote = value[0].text\n",
        "       votes.append(vote)\n",
        "\n",
        "       grosses = value[1].text if len(value)>1 else '******'\n",
        "       gross.append(grosses)\n",
        "\n",
        "\n",
        "movie_Df = pd.DataFrame({'name of movie':movie_name, 'year of relase':year, 'watchtime':time, 'movie rating': rating, 'metascore':metascore, 'vote':votes, 'gross':gross})\n",
        "\n",
        "movie_Df.to_excel('Data_set iMDb website.xlsx')\n"
      ],
      "execution_count": 81,
      "outputs": []
    }
  ]
}